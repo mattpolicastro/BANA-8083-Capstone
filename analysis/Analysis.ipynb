{
 "cells": [
  {
   "cell_type": "code",
   "execution_count": null,
   "metadata": {},
   "outputs": [],
   "source": [
    "from collections import Counter\n",
    "from os import path\n",
    "\n",
    "import geopandas as gpd\n",
    "import matplotlib\n",
    "import matplotlib.pyplot as plt\n",
    "import numpy as np\n",
    "import pandas as pd\n",
    "from scipy import stats\n",
    "from sklearn.metrics import adjusted_rand_score\n",
    "from statsmodels.stats.diagnostic import normal_ad\n",
    "from tqdm import tqdm, tqdm_notebook\n",
    "\n",
    "from evaluate import evaluate, plot_chromosome\n",
    "\n",
    "# Force matplotlib to plot from notebook\n",
    "%matplotlib inline\n",
    "# Increase default plot size\n",
    "matplotlib.rcParams['figure.figsize'] = (10, 10)\n",
    "# Change default plotting font\n",
    "matplotlib.rcParams['font.family'] = 'Dapifer'"
   ]
  },
  {
   "cell_type": "code",
   "execution_count": null,
   "metadata": {
    "collapsed": true
   },
   "outputs": [],
   "source": [
    "# Import the results data\n",
    "districts = map(str, range(0,24))\n",
    "fitness_measures = ['compactness', 'crime_score', 'population_score']\n",
    "names = districts + fitness_measures\n",
    "results = pd.read_csv(path.join('..', 'simulation', 'output.csv'), names=names)\n",
    "\n",
    "# Extract the chromosomes\n",
    "chromosomes = results.iloc[:, :24].values.tolist()"
   ]
  },
  {
   "cell_type": "code",
   "execution_count": null,
   "metadata": {
    "collapsed": true
   },
   "outputs": [],
   "source": [
    "# https://stackoverflow.com/questions/3724551/python-uniqueness-for-list-of-lists\n",
    "unique_chromosomes = [list(x) for x in set(tuple(y) for y in chromosomes)]\n",
    "\n",
    "# Get a set of unique results\n",
    "unique_results = results.drop_duplicates()\n",
    "unique_results = unique_results.iloc[:,-3:]"
   ]
  },
  {
   "cell_type": "code",
   "execution_count": null,
   "metadata": {
    "collapsed": true
   },
   "outputs": [],
   "source": [
    "# Import the cleaned neighborhood data and address naming bug with .rename()\n",
    "neighborhoods_with_border = gpd.read_file(\n",
    "    path.join('..', 'maps', 'clean', 'neighborhoods.shp')\n",
    ").rename(columns={'neighborho': 'neighborhood'})\n",
    "neighborhoods = neighborhoods_with_border.query('neighborhood != \"Border\"').reset_index(drop=True)"
   ]
  },
  {
   "cell_type": "code",
   "execution_count": null,
   "metadata": {
    "collapsed": true
   },
   "outputs": [],
   "source": [
    "baseline_fitness = evaluate(neighborhoods, neighborhoods['district'])"
   ]
  },
  {
   "cell_type": "code",
   "execution_count": null,
   "metadata": {},
   "outputs": [],
   "source": [
    "# Generate histogram of the compactness scores\n",
    "compactness = unique_results['compactness']\n",
    "\n",
    "# Get parameters for fitted beta distribution (forcing location)\n",
    "# and scale as they are the actual limits for the compactness score\n",
    "a, b, loc, scale = stats.beta.fit(compactness, floc=0, fscale=1)\n",
    "\n",
    "fit_x = np.linspace(loc, (loc + scale), 1000)\n",
    "fit_y = stats.beta.pdf(fit_x, a, b, loc, scale)\n",
    "\n",
    "plt.hist(compactness, bins=50, normed=True)\n",
    "plt.plot(fit_x, fit_y)\n",
    "plt.axvline(x=baseline_fitness[0], color='r', linestyle='dashed')\n",
    "plt.gca().set_xlim(left=0.02, right=0.1)\n",
    "plt.show()\n",
    "\n",
    "print('p-value', stats.kstest(compactness, 'beta', (a, b, loc, scale))[1])\n",
    "print('percentile', stats.percentileofscore(compactness, baseline_fitness[0]))"
   ]
  },
  {
   "cell_type": "code",
   "execution_count": null,
   "metadata": {},
   "outputs": [],
   "source": [
    "crime = unique_results['crime_score']\n",
    "\n",
    "# Get parameters for fitted beta distribution (forcing location)\n",
    "# and scale as they are the actual limits for the compactness score\n",
    "a, b, loc, scale = stats.beta.fit(crime, floc=0, fscale=1)\n",
    "\n",
    "fit_x = np.linspace(loc, (loc + scale), 1000)\n",
    "fit_y = stats.beta.pdf(fit_x, a, b, loc, scale)\n",
    "\n",
    "plt.hist(crime, bins=50, normed=True)\n",
    "plt.plot(fit_x, fit_y)\n",
    "plt.axvline(x=baseline_fitness[1], color='r', linestyle='dashed')\n",
    "plt.show()\n",
    "\n",
    "print('p-value', stats.kstest(crime, 'beta', (a, b, loc, scale))[1])\n",
    "print('percentile', stats.percentileofscore(crime, baseline_fitness[1]))"
   ]
  },
  {
   "cell_type": "code",
   "execution_count": null,
   "metadata": {},
   "outputs": [],
   "source": [
    "pop = unique_results['population_score']\n",
    "\n",
    "# Get parameters for fitted beta distribution (forcing location)\n",
    "# and scale as they are the actual limits for the compactness score\n",
    "a, b, loc, scale = stats.beta.fit(pop, floc=0, fscale=1)\n",
    "\n",
    "fit_x = np.linspace(loc, (loc + scale), 1000)\n",
    "fit_y = stats.beta.pdf(fit_x, a, b, loc, scale)\n",
    "\n",
    "plt.hist(pop, bins=50, normed=True)\n",
    "plt.plot(fit_x, fit_y)\n",
    "plt.axvline(x=baseline_fitness[2], color='r', linestyle='dashed')\n",
    "plt.show()\n",
    "\n",
    "print('p-value', stats.kstest(pop, 'beta', (a, b, loc, scale))[1])\n",
    "\n",
    "print(stats.percentileofscore(pop, baseline_fitness[2]))"
   ]
  },
  {
   "cell_type": "code",
   "execution_count": null,
   "metadata": {},
   "outputs": [],
   "source": [
    "# Calculate adjusted rand index for each set\n",
    "rand_scores = []\n",
    "\n",
    "for chromosome in tqdm_notebook(unique_chromosomes, desc = \"Getting Adj. Rand Scores\"):\n",
    "    rand_scores.append(adjusted_rand_score(neighborhoods['district'], chromosome))\n",
    "    \n",
    "# Get parameters for fitted beta distribution (forcing location)\n",
    "# and scale as they are the actual limits for the compactness score\n",
    "a, b, loc, scale = stats.beta.fit(rand_scores, floc=-1, fscale=2)\n",
    "\n",
    "fit_x = np.linspace(loc, (loc + scale), 1000)\n",
    "fit_y = stats.beta.pdf(fit_x, a, b, loc, scale)\n",
    "\n",
    "plt.hist(rand_scores, bins=50, normed=True)\n",
    "plt.plot(fit_x, fit_y)\n",
    "plt.show()\n",
    "\n",
    "print('p-value', stats.kstest(rand_scores, 'beta', (a, b, loc, scale))[1])"
   ]
  },
  {
   "cell_type": "code",
   "execution_count": null,
   "metadata": {
    "scrolled": false
   },
   "outputs": [],
   "source": [
    "# Count instances of each variation\n",
    "chromosome_counts = Counter(tuple(x) for x in chromosomes)\n",
    "chromosome_counts = pd.DataFrame.from_dict(chromosome_counts, orient='index').reset_index()\n",
    "chromosome_counts.columns = ['chromosome', 'count']\n",
    "\n",
    "# Isolate the high-count solutions\n",
    "degenerates = chromosome_counts.sort_values('count', ascending=False).iloc[:4,0]\n",
    "\n",
    "matplotlib.rcParams['figure.figsize'] = (5, 5)\n",
    "\n",
    "for degenerate in degenerates:\n",
    "    plot_chromosome(neighborhoods, degenerate, dissolve=False)"
   ]
  },
  {
   "cell_type": "code",
   "execution_count": null,
   "metadata": {
    "collapsed": true
   },
   "outputs": [],
   "source": []
  }
 ],
 "metadata": {
  "kernelspec": {
   "display_name": "capstone_jupyter27",
   "language": "python",
   "name": "capstone_jupyter27"
  },
  "language_info": {
   "codemirror_mode": {
    "name": "ipython",
    "version": 2
   },
   "file_extension": ".py",
   "mimetype": "text/x-python",
   "name": "python",
   "nbconvert_exporter": "python",
   "pygments_lexer": "ipython2",
   "version": "2.7.13"
  }
 },
 "nbformat": 4,
 "nbformat_minor": 2
}
