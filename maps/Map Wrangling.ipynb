{
 "cells": [
  {
   "cell_type": "code",
   "execution_count": null,
   "metadata": {
    "collapsed": true,
    "scrolled": false
   },
   "outputs": [],
   "source": [
    "from os import path\n",
    "import geopandas as gpd\n",
    "import matplotlib\n",
    "import pandas as pd\n",
    "\n",
    "\n",
    "# Force matplotlib to plot from notebook\n",
    "%matplotlib inline\n",
    "# Increase default plot size\n",
    "matplotlib.rcParams['figure.figsize'] = (20.0, 20.0)\n",
    "\n",
    "# Read in GeoJSON data\n",
    "neighborhoods = gpd.read_file(path.join('raw', 'CPD_Neighborhoods.json'))\n",
    "\n",
    "# Drop extraneous columns\n",
    "neighborhoods = neighborhoods.drop([\n",
    "    'Beat', \n",
    "    'District', \n",
    "    'Area_SQMI', \n",
    "    'Shape_Area', \n",
    "    'Shape_Leng', \n",
    "    'FID', \n",
    "    'Pop_2010'\n",
    "], axis=1)\n",
    "\n",
    "# Rename columns\n",
    "neighborhoods = neighborhoods.rename(columns={\n",
    "    'NHOOD': 'neighborhood_raw',\n",
    "})"
   ]
  },
  {
   "cell_type": "code",
   "execution_count": null,
   "metadata": {
    "collapsed": true,
    "scrolled": false
   },
   "outputs": [],
   "source": [
    "neighborhood_name_mappings = pd.DataFrame([\n",
    "    ['AVONDALE', 'Avondale'],\n",
    "    ['BONDHILL', 'Bond Hill'],\n",
    "    ['C.B.D./RIVERFRONT', 'Downtown'],\n",
    "    ['CALIFORNIA', 'California'],\n",
    "    ['CAMP WASHINGTON', 'Camp Washington'],\n",
    "    ['CARTHAGE', 'Carthage'],\n",
    "    ['CLIFTON', 'Clifton'],\n",
    "    ['COLLEGE HILL', 'College Hill'],\n",
    "    ['COLUMBIA TUSCULUM', 'Columbia Tusculum'],\n",
    "    ['CORRYVILLE', 'Corryville'],\n",
    "    ['CUF', 'CUF'],\n",
    "    ['EAST END', 'East End'],\n",
    "    ['EAST PRICE HILL', 'East Price Hill'],\n",
    "    ['EAST WALNUT HILLS', 'East Walnut Hills'],\n",
    "    ['EAST WESTWOOD', 'East Westwood'],\n",
    "    ['ENGLISH WOODS', 'English Woods'],\n",
    "    ['EVANSTON', 'Evanston'],\n",
    "    ['FAY APARTMENTS', 'Villages at Roll Hill'],\n",
    "    ['HARTWELL', 'Hartwell'],\n",
    "    ['HYDE PARK', 'Hyde Park'],\n",
    "    ['KENNEDY HEIGHTS', 'Kennedy Heights'],\n",
    "    ['LINWOOD', 'Linwood'],\n",
    "    ['LOWER PRICE HILL', 'Lower Price Hill'],\n",
    "    ['MADISONVILLE', 'Madisonville'],\n",
    "    ['MILLVALE', 'Millvale'],\n",
    "    ['MOUNT ADAMS', 'Mt. Adams'],\n",
    "    ['MOUNT AIRY', 'Mt. Airy'],\n",
    "    ['MOUNT AUBURN', 'Mt. Auburn'],\n",
    "    ['MT. LOOKOUT', 'Mt. Lookout'],\n",
    "    ['MT. WASHINGTON', 'Mt. Washington'],\n",
    "    ['NORTH AVONDALE', 'North Avondale'],\n",
    "    ['NORTH FAIRMOUNT', 'North Fairmount'],\n",
    "    ['NORTHSIDE', 'Northside'],\n",
    "    ['OAKLEY', 'Oakley'],\n",
    "    ['OVER THE RHINE', 'Over-the-Rhine'],\n",
    "    ['PADDOCK HILLS', 'Paddock Hills'],\n",
    "    ['PENDLETON', 'Pendleton'],\n",
    "    ['PLEASANT RIDGE', 'Pleasant Ridge'],\n",
    "    ['QUEENSGATE', 'Queensgate'],\n",
    "    ['RIVERSIDE', 'Riverside'],\n",
    "    ['ROSELAWN', 'Roselawn'],\n",
    "    ['SAYLER PARK', 'Sayler Park'],\n",
    "    ['SEDAMSVILLE', 'Sedamsville'],\n",
    "    ['SOUTH CUMMINSVILLE', 'South Cumminsville'],\n",
    "    ['SOUTH FAIRMOUNT', 'South Fairmount'],\n",
    "    ['SPRING GROVE VILLAGE', 'Spring Grove Village'],\n",
    "    ['WALNUT HILLS', 'Walnut Hills'],\n",
    "    ['WEST END', 'West End'],\n",
    "    ['WEST PRICE HILL', 'West Price Hill'],\n",
    "    ['WESTWOOD', 'Westwood'],\n",
    "    ['WINTON HILLS', 'Winton Hills']\n",
    "], columns=['neighborhood_raw', 'neighborhood'])"
   ]
  },
  {
   "cell_type": "code",
   "execution_count": null,
   "metadata": {
    "collapsed": true,
    "scrolled": false
   },
   "outputs": [],
   "source": [
    "# Merge cleaned names onto data\n",
    "neighborhoods = neighborhoods.merge(neighborhood_name_mappings)\n",
    "neighborhoods = neighborhoods.drop(['neighborhood_raw'], axis=1)"
   ]
  },
  {
   "cell_type": "code",
   "execution_count": null,
   "metadata": {
    "scrolled": false
   },
   "outputs": [],
   "source": [
    "# Read in cleaned data\n",
    "crimes_and_pops = pd.read_csv(path.join('..', 'data', 'clean', 'crimes_and_pops_counts.csv'), dtype={\n",
    "    'district': str, \n",
    "    'crimes': int,\n",
    "    'population': int\n",
    "})\n",
    "\n",
    "# Lowercase neighborhood for join\n",
    "# crimes_and_pops['neighborhood_lower'] = crimes_and_pops.neighborhood.str.lower() \n",
    "# neighborhoods['neighborhood_lower'] = neighborhoods.neighborhood.str.lower()\n",
    "\n",
    "# Merge with shape data\n",
    "neighborhoods_merged = neighborhoods.merge(crimes_and_pops)"
   ]
  },
  {
   "cell_type": "code",
   "execution_count": null,
   "metadata": {
    "collapsed": true
   },
   "outputs": [],
   "source": [
    "# Add region to create \"unit zero\" to check if neighborhood is on outer edge\n",
    "region = gpd.read_file(path.join('raw', 'region.json'))\n",
    "\n",
    "# Merge neighborhoods for a faster set operation with the region boundary\n",
    "neighborhoods = neighborhoods_merged.query('district != \"2\"').query('district != \"3\"')\n",
    "\n",
    "# Get Differences to extract holes and bounding area\n",
    "border = gpd.overlay(region, neighborhoods, how='difference')"
   ]
  },
  {
   "cell_type": "code",
   "execution_count": null,
   "metadata": {
    "collapsed": true,
    "scrolled": false
   },
   "outputs": [],
   "source": [
    "# Drop extraneous columns\n",
    "border_clean = border.drop([\n",
    "    'NHOOD', \n",
    "    'crimes', \n",
    "    'district', \n",
    "    'population'\n",
    "], axis=1)\n",
    "\n",
    "# Name the differenced areas to preserve contiguity in the final region\n",
    "border_clean.iloc[0].neighborhood = 'Border'\n",
    "border_clean.iloc[1].neighborhood = 'Edgemont'\n",
    "border_clean.iloc[2].neighborhood = 'EPSB'"
   ]
  },
  {
   "cell_type": "code",
   "execution_count": null,
   "metadata": {
    "collapsed": true,
    "scrolled": false
   },
   "outputs": [],
   "source": [
    "# Add the border and \"hole\" neighborhoods back into the data\n",
    "neighborhoods_final = border_clean.append(neighborhoods).reset_index(drop=True)\n",
    "\n",
    "# Remove Edgemont and Elmwood Place/St. Bernard (EPSB) from the dataset\n",
    "neighborhoods_final = neighborhoods_final.query('neighborhood != \"Edgemont\"').query('neighborhood != \"EPSB\"')\n",
    "\n",
    "# Write to file\n",
    "neighborhoods_final.to_file(path.join('clean', 'neighborhoods.shp'))\n",
    "neighborhoods_final.to_file(path.join('clean', 'neighborhoods.json'))\n",
    "# neighborhoods_final.query('neighborhood != \"Border\"').to_file(path.join('clean', 'neighborhoods.shp'))"
   ]
  },
  {
   "cell_type": "code",
   "execution_count": null,
   "metadata": {
    "scrolled": false
   },
   "outputs": [],
   "source": [
    "neighborhoods_final"
   ]
  },
  {
   "cell_type": "code",
   "execution_count": null,
   "metadata": {},
   "outputs": [],
   "source": [
    "neighborhoods_final.plot()"
   ]
  },
  {
   "cell_type": "code",
   "execution_count": null,
   "metadata": {
    "collapsed": true
   },
   "outputs": [],
   "source": []
  }
 ],
 "metadata": {
  "kernelspec": {
   "display_name": "capstone_jupyter27",
   "language": "python",
   "name": "capstone_jupyter27"
  },
  "language_info": {
   "codemirror_mode": {
    "name": "ipython",
    "version": 2
   },
   "file_extension": ".py",
   "mimetype": "text/x-python",
   "name": "python",
   "nbconvert_exporter": "python",
   "pygments_lexer": "ipython2",
   "version": "2.7.13"
  }
 },
 "nbformat": 4,
 "nbformat_minor": 2
}
