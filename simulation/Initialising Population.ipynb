{
 "cells": [
  {
   "cell_type": "code",
   "execution_count": 1,
   "metadata": {
    "scrolled": false
   },
   "outputs": [],
   "source": [
    "import json\n",
    "from os import path\n",
    "import pprint\n",
    "import random\n",
    "\n",
    "import geopandas as gpd\n",
    "import matplotlib\n",
    "import numpy as np\n",
    "import pysal\n",
    "from tqdm import tqdm, tqdm_notebook\n",
    "\n",
    "# Set random seeds for reproducibility\n",
    "random.seed(45202)\n",
    "np.random.seed(45202)\n",
    "\n",
    "# Set up PrettyPrinter\n",
    "pp = pprint.PrettyPrinter()\n",
    "\n",
    "# Force matplotlib to plot from notebook\n",
    "%matplotlib inline\n",
    "# Increase default plot size\n",
    "matplotlib.rcParams['figure.figsize'] = (20.0, 20.0)"
   ]
  },
  {
   "cell_type": "code",
   "execution_count": 2,
   "metadata": {},
   "outputs": [],
   "source": [
    "# import the cleaned neighborhood data and address naming bug with .rename()\n",
    "neighborhoods = gpd.read_file(\n",
    "    path.join('..', 'maps', 'clean', 'neighborhoods.shp')\n",
    ").rename(columns={'neighborho': 'neighborhood'})\n",
    "neighborhoods_without_border = neighborhoods.query('neighborhood != \"Border\"').reset_index(drop=True)"
   ]
  },
  {
   "cell_type": "code",
   "execution_count": 3,
   "metadata": {
    "scrolled": true
   },
   "outputs": [],
   "source": [
    "# Get contiguity weights matrix from shapefile. I argue queen contiguity doesn't\n",
    "# make sense, as shared borders are necessary for moving between neighborhoods.\n",
    "\n",
    "# Get weights for neighborhoods on the region edge\n",
    "border_w = pysal.weights.Rook.from_dataframe(neighborhoods)\n",
    "neighborhoods_on_border = border_w.neighbors[0]\n",
    "\n",
    "# Get weights for neighborhoods inside region\n",
    "neighborhood_w = pysal.weights.Rook.from_dataframe(neighborhoods_without_border)\n",
    "\n",
    "with open('neighbors.json', 'w') as file:\n",
    "    json.dump(neighborhood_w.neighbors, file)"
   ]
  },
  {
   "cell_type": "code",
   "execution_count": 4,
   "metadata": {
    "collapsed": true
   },
   "outputs": [
    {
     "name": "stderr",
     "output_type": "stream",
     "text": [
      "Widget Javascript not detected.  It may not be installed or enabled properly.\n"
     ]
    },
    {
     "data": {
      "application/vnd.jupyter.widget-view+json": {
       "model_id": "754a2c02bab347fc9395a988344c369b"
      }
     },
     "metadata": {},
     "output_type": "display_data"
    },
    {
     "name": "stdout",
     "output_type": "stream",
     "text": [
      "\n"
     ]
    }
   ],
   "source": [
    "# Generate 1000 random, contiguous regions/districts using PySAL\n",
    "rand_districts = pysal.region.Random_Regions(\n",
    "    neighborhood_w.id_order, \n",
    "    num_regions=3, \n",
    "    contiguity=neighborhood_w,\n",
    "    compact=True,\n",
    "    permutations=1000\n",
    ")\n",
    "\n",
    "# Create a placeholder for the generated population\n",
    "initial_population = []\n",
    "\n",
    "# Loop over feasible solutions to generate starting population object\n",
    "for solution in tqdm_notebook(rand_districts.solutions_feas, desc='Generate population'):\n",
    "    \n",
    "#     # Create a placeholder chromosome - I've been going back and forth \n",
    "#     # on this. A list might be more appropriate, but I'm nervous about\n",
    "#     # unexpected indexing behaviour, so explicit keys feel a little \n",
    "#     # safer.\n",
    "#     chromosome = dict.fromkeys(range(0, neighborhoods.shape[0]), np.NaN)\n",
    "    \n",
    "#     # Loop through the districts\n",
    "#     for idx, region in enumerate(solution.regions):\n",
    "#         # Add each neighborhood in the district to the chromosome\n",
    "#         for neighborhood in region:\n",
    "#             chromosome[neighborhood] = idx\n",
    "#     initial_population.append(chromosome)\n",
    "\n",
    "    \n",
    "    # Alternatively, construct an empty list of the length of the neighborhoods\n",
    "    chromosome = [None] * neighborhoods_without_border.shape[0]\n",
    "    \n",
    "    for idx, region in enumerate(solution.regions):\n",
    "        # Add each neighborhood in the district to the chromosome\n",
    "        for neighborhood in region:\n",
    "            chromosome[neighborhood] = idx\n",
    "    initial_population.append(chromosome)        \n",
    "    \n",
    "    \n",
    "#     # Or, even more alternatively, create a new object to store relevant information\n",
    "#     individual = {\n",
    "#         'regions': solution.regions,\n",
    "#         'chromosome': [None] * neighborhoods.shape[0]\n",
    "#     }\n",
    "\n",
    "#     for idx, region in enumerate(solution.regions):\n",
    "#         # Add each neighborhood in the district to the chromosome\n",
    "#         for neighborhood in region:\n",
    "#             individual['chromosome'][neighborhood] = idx\n",
    "#     initial_population.append(individual)"
   ]
  },
  {
   "cell_type": "code",
   "execution_count": 5,
   "metadata": {
    "collapsed": true
   },
   "outputs": [
    {
     "name": "stderr",
     "output_type": "stream",
     "text": [
      "Widget Javascript not detected.  It may not be installed or enabled properly.\n"
     ]
    },
    {
     "data": {
      "application/vnd.jupyter.widget-view+json": {
       "model_id": "ed7e90341a3a4ff9a495c7e38710ad9c"
      }
     },
     "metadata": {},
     "output_type": "display_data"
    },
    {
     "name": "stdout",
     "output_type": "stream",
     "text": [
      "\n",
      "('Valid individual solutions:', 941)\n"
     ]
    }
   ],
   "source": [
    "# Isolate the border geometry for neighbor-checking\n",
    "border = neighborhoods.query('neighborhood == \"Border\"')\n",
    "\n",
    "# Create placeholder for final population\n",
    "final_population = []\n",
    "\n",
    "# Check each individual solution for districts surrounded entirely by another districts\n",
    "for individual in tqdm_notebook(initial_population, desc='Check feasibility/validity'):\n",
    "    \n",
    "    # Set the districts to the generated values\n",
    "    neighborhoods_without_border.district = individual\n",
    "    \n",
    "    # Create a full district map to calculate neighbors\n",
    "    districts = neighborhoods_without_border.append(border).dissolve(by='district')\n",
    "    \n",
    "    # Get the neighbor weights from the districts\n",
    "    district_w = pysal.weights.Rook.from_dataframe(districts)\n",
    "    \n",
    "    # Create placeholder count for surrounded districts\n",
    "    surrounded_districts = 0\n",
    "    for district, neighbors in enumerate(district_w):\n",
    "        # If a district has one or fewer neighbours, it is invalid\n",
    "        if len(neighbors[1]) <= 1: surrounded_districts = surrounded_districts + 1\n",
    "    \n",
    "    # If there were no surrounded districts, append to the final population\n",
    "    if surrounded_districts == 0: final_population.append(individual)\n",
    "\n",
    "        \n",
    "print('Valid individual solutions:', len(final_population))"
   ]
  },
  {
   "cell_type": "code",
   "execution_count": 7,
   "metadata": {
    "collapsed": true
   },
   "outputs": [],
   "source": [
    "# Of the valid solutions, randomly sample 100 (without replacement)\n",
    "final_population_sample = random.sample(final_population, 100)\n",
    "        \n",
    "# Write out population to file\n",
    "with open('population.json', 'w') as file:\n",
    "    json.dump(final_population_sample, file)"
   ]
  },
  {
   "cell_type": "code",
   "execution_count": null,
   "metadata": {},
   "outputs": [],
   "source": []
  }
 ],
 "metadata": {
  "kernelspec": {
   "display_name": "capstone_jupyter27",
   "language": "python",
   "name": "capstone_jupyter27"
  },
  "language_info": {
   "codemirror_mode": {
    "name": "ipython",
    "version": 2
   },
   "file_extension": ".py",
   "mimetype": "text/x-python",
   "name": "python",
   "nbconvert_exporter": "python",
   "pygments_lexer": "ipython2",
   "version": "2.7.13"
  }
 },
 "nbformat": 4,
 "nbformat_minor": 2
}
