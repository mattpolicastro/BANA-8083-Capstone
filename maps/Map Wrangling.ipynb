{
 "cells": [
  {
   "cell_type": "code",
   "execution_count": null,
   "metadata": {
    "scrolled": true
   },
   "outputs": [],
   "source": [
    "# Force matplotlib to plot from notebook\n",
    "%matplotlib inline\n",
    "\n",
    "from os import path\n",
    "import geopandas as gpd\n",
    "\n",
    "neighborhoods = gpd.read_file('snabnd.shp')\n",
    "neighborhoods = neighborhoods.drop('SNA_NUMBER', axis=1)\n",
    "neighborhoods = neighborhoods.rename(columns={\n",
    "    'ACRES': 'acres',\n",
    "    'AREA': 'area',\n",
    "    'PERIMETER': 'perimeter',\n",
    "    'SNA_NAME': 'neighborhood'\n",
    "})\n",
    "neighborhoods"
   ]
  },
  {
   "cell_type": "code",
   "execution_count": null,
   "metadata": {
    "scrolled": true
   },
   "outputs": [],
   "source": [
    "neighborhoods.plot()"
   ]
  }
 ],
 "metadata": {
  "kernelspec": {
   "display_name": "capstone_jupyter27",
   "language": "python",
   "name": "capstone_jupyter27"
  },
  "language_info": {
   "codemirror_mode": {
    "name": "ipython",
    "version": 2
   },
   "file_extension": ".py",
   "mimetype": "text/x-python",
   "name": "python",
   "nbconvert_exporter": "python",
   "pygments_lexer": "ipython2",
   "version": "2.7.13"
  }
 },
 "nbformat": 4,
 "nbformat_minor": 2
}
