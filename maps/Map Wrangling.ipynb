{
 "cells": [
  {
   "cell_type": "code",
   "execution_count": null,
   "metadata": {
    "scrolled": false
   },
   "outputs": [],
   "source": [
    "from os import path\n",
    "import geopandas as gpd\n",
    "import matplotlib\n",
    "import pandas as pd\n",
    "\n",
    "\n",
    "# Force matplotlib to plot from notebook\n",
    "%matplotlib inline\n",
    "# Increase default plot size\n",
    "matplotlib.rcParams['figure.figsize'] = (20.0, 20.0)\n",
    "\n",
    "# Read in GeoJSON data\n",
    "neighborhoods = gpd.read_file('CPD_Neighborhoods.json')\n",
    "\n",
    "# Drop extraneous columns\n",
    "neighborhoods = neighborhoods.drop(['Beat', 'FID', 'Pop_2010'], axis=1)\n",
    "\n",
    "# Rename columns\n",
    "neighborhoods = neighborhoods.rename(columns={\n",
    "    'NHOOD': 'neighborhood_raw',\n",
    "    'District': 'actual_district',\n",
    "    'Area_SQMI': 'area_sq_mi',\n",
    "    'Shape_Area': 'area',\n",
    "    'Shape_Leng': 'perimeter'\n",
    "})\n",
    "\n",
    "# Re-code Central Business District as District 1\n",
    "neighborhoods.loc[neighborhoods.actual_district == 'CBD', 'actual_district'] = \"1\"\n",
    "\n",
    "# Show neighborhoods being used in analysis\n",
    "# neighborhoods.query('actual_district != \"2\" | actual_district != \"3\"')"
   ]
  },
  {
   "cell_type": "code",
   "execution_count": null,
   "metadata": {},
   "outputs": [],
   "source": [
    "neighborhood_name_mappings = pd.DataFrame([\n",
    "    ['AVONDALE', 'Avondale'],\n",
    "    ['BONDHILL', 'Bond Hill'],\n",
    "    ['C.B.D./RIVERFRONT', 'Downtown'],\n",
    "    ['CALIFORNIA', 'California'],\n",
    "    ['CAMP WASHINGTON', 'Camp Washington'],\n",
    "    ['CARTHAGE', 'Carthage'],\n",
    "    ['CLIFTON', 'Clifton'],\n",
    "    ['COLLEGE HILL', 'College Hill'],\n",
    "    ['COLUMBIA TUSCULUM', 'Columbia Tusculum'],\n",
    "    ['CORRYVILLE', 'Corryville'],\n",
    "    ['CUF', 'CUF'],\n",
    "    ['EAST END', 'East End'],\n",
    "    ['EAST PRICE HILL', 'East Price Hill'],\n",
    "    ['EAST WALNUT HILLS', 'East Walnut Hills'],\n",
    "    ['EAST WESTWOOD', 'East Westwood'],\n",
    "    ['ENGLISH WOODS', 'English Woods'],\n",
    "    ['EVANSTON', 'Evanston'],\n",
    "    ['FAY APARTMENTS', 'Villages at Roll Hill'],\n",
    "    ['HARTWELL', 'Hartwell'],\n",
    "    ['HYDE PARK', 'Hyde Park'],\n",
    "    ['KENNEDY HEIGHTS', 'Kennedy Heights'],\n",
    "    ['LINWOOD', 'Linwood'],\n",
    "    ['LOWER PRICE HILL', 'Lower Price Hill'],\n",
    "    ['MADISONVILLE', 'Madisonville'],\n",
    "    ['MILLVALE', 'Millvale'],\n",
    "    ['MOUNT ADAMS', 'Mt. Adams'],\n",
    "    ['MOUNT AIRY', 'Mt. Airy'],\n",
    "    ['MOUNT AUBURN', 'Mt. Auburn'],\n",
    "    ['MT. LOOKOUT', 'Mt. Lookout'],\n",
    "    ['MT. WASHINGTON', 'Mt. Washington'],\n",
    "    ['NORTH AVONDALE', 'North Avondale'],\n",
    "    ['NORTH FAIRMOUNT', 'North Fairmount'],\n",
    "    ['NORTHSIDE', 'Northside'],\n",
    "    ['OAKLEY', 'Oakley'],\n",
    "    ['OVER THE RHINE', 'Over-the-Rhine'],\n",
    "    ['PADDOCK HILLS', 'Paddock Hills'],\n",
    "    ['PENDLETON', 'Pendleton'],\n",
    "    ['PLEASANT RIDGE', 'Pleasant Ridge'],\n",
    "    ['QUEENSGATE', 'Queensgate'],\n",
    "    ['RIVERSIDE', 'Riverside'],\n",
    "    ['ROSELAWN', 'Roselawn'],\n",
    "    ['SAYLER PARK', 'Sayler Park'],\n",
    "    ['SEDAMSVILLE', 'Sedamsville'],\n",
    "    ['SOUTH CUMMINSVILLE', 'South Cumminsville'],\n",
    "    ['SOUTH FAIRMOUNT', 'South Fairmount'],\n",
    "    ['SPRING GROVE VILLAGE', 'Spring Grove Village'],\n",
    "    ['WALNUT HILLS', 'Walnut Hills'],\n",
    "    ['WEST END', 'West End'],\n",
    "    ['WEST PRICE HILL', 'West Price Hill'],\n",
    "    ['WESTWOOD', 'Westwood'],\n",
    "    ['WINTON HILLS', 'Winton Hills']\n",
    "], columns=['neighborhood_raw', 'neighborhood'])"
   ]
  },
  {
   "cell_type": "code",
   "execution_count": null,
   "metadata": {},
   "outputs": [],
   "source": [
    "# Merge cleaned names onto data\n",
    "neighborhoods = neighborhoods.merge(neighborhood_name_mappings)\n",
    "neighborhoods = neighborhoods.drop(['neighborhood_raw'], axis=1)"
   ]
  },
  {
   "cell_type": "code",
   "execution_count": null,
   "metadata": {
    "scrolled": false
   },
   "outputs": [],
   "source": [
    "# Read in cleaned data\n",
    "crimes_and_pops = pd.read_csv(path.join('..', 'data', 'crimes_clean_counts_and_pops.csv'), dtype={\n",
    "    'district': str, \n",
    "    'crimes': int,\n",
    "    'population': int\n",
    "})\n",
    "\n",
    "# Lowercase neighborhood for join\n",
    "# crimes_and_pops['neighborhood_lower'] = crimes_and_pops.neighborhood.str.lower() \n",
    "# neighborhoods['neighborhood_lower'] = neighborhoods.neighborhood.str.lower()\n",
    "\n",
    "# Merge with shape data\n",
    "neighborhoods_merged = neighborhoods.merge(crimes_and_pops)"
   ]
  },
  {
   "cell_type": "code",
   "execution_count": null,
   "metadata": {
    "collapsed": true
   },
   "outputs": [],
   "source": [
    "neighborhoods_merged.to_file('neighborhoods_clean.shp')"
   ]
  },
  {
   "cell_type": "code",
   "execution_count": null,
   "metadata": {
    "collapsed": true
   },
   "outputs": [],
   "source": []
  }
 ],
 "metadata": {
  "kernelspec": {
   "display_name": "capstone_jupyter27",
   "language": "python",
   "name": "capstone_jupyter27"
  },
  "language_info": {
   "codemirror_mode": {
    "name": "ipython",
    "version": 2
   },
   "file_extension": ".py",
   "mimetype": "text/x-python",
   "name": "python",
   "nbconvert_exporter": "python",
   "pygments_lexer": "ipython2",
   "version": "2.7.13"
  }
 },
 "nbformat": 4,
 "nbformat_minor": 2
}
